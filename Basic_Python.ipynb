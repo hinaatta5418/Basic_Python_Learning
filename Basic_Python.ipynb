{
 "cells": [
  {
   "cell_type": "code",
   "execution_count": 1,
   "id": "0b596187",
   "metadata": {},
   "outputs": [
    {
     "name": "stdout",
     "output_type": "stream",
     "text": [
      "hello world\n"
     ]
    }
   ],
   "source": [
    "print(\"hello world\") #hello world code"
   ]
  },
  {
   "cell_type": "code",
   "execution_count": 2,
   "id": "c4066c3e",
   "metadata": {},
   "outputs": [
    {
     "name": "stdout",
     "output_type": "stream",
     "text": [
      "3\n"
     ]
    }
   ],
   "source": [
    "print (1+2) #printing code"
   ]
  },
  {
   "cell_type": "code",
   "execution_count": 3,
   "id": "5bb6c2ca",
   "metadata": {},
   "outputs": [
    {
     "name": "stdout",
     "output_type": "stream",
     "text": [
      "12\n"
     ]
    }
   ],
   "source": [
    "print ((1+2)+(8+1)) #printing"
   ]
  },
  {
   "cell_type": "code",
   "execution_count": 4,
   "id": "622e968e",
   "metadata": {},
   "outputs": [
    {
     "name": "stdout",
     "output_type": "stream",
     "text": [
      "48\n"
     ]
    }
   ],
   "source": [
    "print ((1+2)*(7+9)) "
   ]
  },
  {
   "cell_type": "code",
   "execution_count": 5,
   "id": "cff7896e",
   "metadata": {},
   "outputs": [],
   "source": [
    "a=6+6"
   ]
  },
  {
   "cell_type": "code",
   "execution_count": 6,
   "id": "656b7770",
   "metadata": {},
   "outputs": [
    {
     "name": "stdout",
     "output_type": "stream",
     "text": [
      "12\n"
     ]
    }
   ],
   "source": [
    "print(a)"
   ]
  },
  {
   "cell_type": "code",
   "execution_count": 7,
   "id": "564f2f94",
   "metadata": {},
   "outputs": [],
   "source": [
    "test_var=12"
   ]
  },
  {
   "cell_type": "code",
   "execution_count": 8,
   "id": "aeef09e8",
   "metadata": {},
   "outputs": [
    {
     "name": "stdout",
     "output_type": "stream",
     "text": [
      "12\n"
     ]
    }
   ],
   "source": [
    "print (test_var)"
   ]
  },
  {
   "cell_type": "code",
   "execution_count": 9,
   "id": "245be025",
   "metadata": {},
   "outputs": [],
   "source": [
    "test=32"
   ]
  },
  {
   "cell_type": "code",
   "execution_count": 10,
   "id": "a04db957",
   "metadata": {},
   "outputs": [
    {
     "name": "stdout",
     "output_type": "stream",
     "text": [
      "32\n"
     ]
    }
   ],
   "source": [
    "print(test)"
   ]
  },
  {
   "cell_type": "code",
   "execution_count": 11,
   "id": "9d99cc68",
   "metadata": {},
   "outputs": [],
   "source": [
    "test=56"
   ]
  },
  {
   "cell_type": "code",
   "execution_count": 12,
   "id": "602aacaf",
   "metadata": {},
   "outputs": [
    {
     "name": "stdout",
     "output_type": "stream",
     "text": [
      "56\n"
     ]
    }
   ],
   "source": [
    "print(test)"
   ]
  },
  {
   "cell_type": "code",
   "execution_count": 13,
   "id": "871aa392",
   "metadata": {},
   "outputs": [],
   "source": [
    "new_test=test+4"
   ]
  },
  {
   "cell_type": "code",
   "execution_count": 14,
   "id": "d84a7237",
   "metadata": {},
   "outputs": [
    {
     "name": "stdout",
     "output_type": "stream",
     "text": [
      "60\n"
     ]
    }
   ],
   "source": [
    "print(new_test)"
   ]
  },
  {
   "cell_type": "code",
   "execution_count": 15,
   "id": "cac02855",
   "metadata": {},
   "outputs": [
    {
     "name": "stdout",
     "output_type": "stream",
     "text": [
      "157680000\n"
     ]
    }
   ],
   "source": [
    "num_year=5\n",
    "days_peryr=365\n",
    "hours_per_day=24\n",
    "mins_per_hours=60\n",
    "sec_per_hours=60\n",
    "\n",
    "totalsec=num_year* days_peryr*hours_per_day* mins_per_hours *sec_per_hours\n",
    "print(totalsec)"
   ]
  },
  {
   "cell_type": "code",
   "execution_count": null,
   "id": "c78636e7",
   "metadata": {},
   "outputs": [],
   "source": []
  }
 ],
 "metadata": {
  "kernelspec": {
   "display_name": "Python 3 (ipykernel)",
   "language": "python",
   "name": "python3"
  },
  "language_info": {
   "codemirror_mode": {
    "name": "ipython",
    "version": 3
   },
   "file_extension": ".py",
   "mimetype": "text/x-python",
   "name": "python",
   "nbconvert_exporter": "python",
   "pygments_lexer": "ipython3",
   "version": "3.9.13"
  }
 },
 "nbformat": 4,
 "nbformat_minor": 5
}
